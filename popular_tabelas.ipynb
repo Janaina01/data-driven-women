{
 "cells": [
  {
   "cell_type": "code",
   "execution_count": 1,
   "metadata": {},
   "outputs": [
    {
     "name": "stdout",
     "output_type": "stream",
     "text": [
      "Requirement already satisfied: mysql-connector-python in c:\\users\\ozerio\\appdata\\local\\programs\\python\\python312\\lib\\site-packages (8.2.0)\n",
      "Requirement already satisfied: protobuf<=4.21.12,>=4.21.1 in c:\\users\\ozerio\\appdata\\local\\programs\\python\\python312\\lib\\site-packages (from mysql-connector-python) (4.21.12)\n",
      "Note: you may need to restart the kernel to use updated packages.\n"
     ]
    },
    {
     "name": "stderr",
     "output_type": "stream",
     "text": [
      "\n",
      "[notice] A new release of pip is available: 23.2.1 -> 23.3.2\n",
      "[notice] To update, run: python.exe -m pip install --upgrade pip\n"
     ]
    }
   ],
   "source": [
    "pip install mysql-connector-python"
   ]
  },
  {
   "cell_type": "code",
   "execution_count": 2,
   "metadata": {},
   "outputs": [],
   "source": [
    "import mysql.connector\n",
    "from random import choice, randint"
   ]
  },
  {
   "cell_type": "code",
   "execution_count": 3,
   "metadata": {},
   "outputs": [],
   "source": [
    "db_config = {\n",
    "    'host': 'localhost',\n",
    "    'user': 'root',\n",
    "    'password': 'mysql',\n",
    "    'database': 'projeto_embraer'\n",
    "    }"
   ]
  },
  {
   "cell_type": "code",
   "execution_count": 4,
   "metadata": {},
   "outputs": [],
   "source": [
    "conn = mysql.connector.connect(**db_config)\n",
    "cursor = conn.cursor()\n",
    "\n",
    "insert_query = \"\"\"INSERT INTO produto (produto_id, produto, tipo_carga)\n",
    "values \n",
    "\t(null, \"ERJ 145\", \"Transporte de Passageiros\"),\n",
    "    (null, \"ERJ 145XR\", \"Transporte de Passageiros\"),\n",
    "    (null, \"E170\", \"Transporte de Passageiros\"),\n",
    "    (null, \"E175\", \"Transporte de Passageiros\"),\n",
    "    (null, \"E190\", \"Transporte de Passageiros\"),\n",
    "    (null, \"E195\", \"Transporte de Passageiros\"),\n",
    "    (null, \"KC-390 Millennium\", \"Transporte de Carga\"),\n",
    "    (null, \"E190-E2\", \"Transporte de Passageiros\"),\n",
    "    (null, \"E195-E2\", \"Transporte de Passageiros\")\n",
    "    \"\"\"\n",
    "    \n",
    "cursor.execute(insert_query)\n",
    "conn.commit()"
   ]
  },
  {
   "cell_type": "code",
   "execution_count": 8,
   "metadata": {},
   "outputs": [],
   "source": [
    "insert_query = \"\"\"INSERT INTO nps (nps_id, nps_pontuacao, nps_data)\n",
    "values \n",
    "\t(null, FLOOR(RAND() * 11), '2022-03-28'),\n",
    "    (null, FLOOR(RAND() * 11), '2022-03-28'),\n",
    "    (null, FLOOR(RAND() * 11), '2022-03-28'),\n",
    "    (null, FLOOR(RAND() * 11), '2022-03-28'),\n",
    "    (null, FLOOR(RAND() * 11), '2022-03-28'),\n",
    "    (null, FLOOR(RAND() * 11), '2022-03-28'),\n",
    "    (null, FLOOR(RAND() * 11), '2022-03-28'),\n",
    "    (null, FLOOR(RAND() * 11), '2022-03-28'),\n",
    "    (null, FLOOR(RAND() * 11), '2022-03-28'),\n",
    "    (null, FLOOR(RAND() * 11), '2022-03-28'),\n",
    "    (null, FLOOR(RAND() * 11), '2022-06-27'),\n",
    "    (null, FLOOR(RAND() * 11), '2022-06-27'),\n",
    "    (null, FLOOR(RAND() * 11), '2022-06-27'),\n",
    "    (null, FLOOR(RAND() * 11), '2022-06-27'),\n",
    "    (null, FLOOR(RAND() * 11), '2022-06-27'),\n",
    "    (null, FLOOR(RAND() * 11), '2022-06-27'),\n",
    "    (null, FLOOR(RAND() * 11), '2022-06-27'),\n",
    "    (null, FLOOR(RAND() * 11), '2022-06-27'),\n",
    "    (null, FLOOR(RAND() * 11), '2022-06-27'),\n",
    "    (null, FLOOR(RAND() * 11), '2022-06-27'),\n",
    "    (null, FLOOR(RAND() * 11), '2022-09-26'),\n",
    "    (null, FLOOR(RAND() * 11), '2022-09-26'),\n",
    "    (null, FLOOR(RAND() * 11), '2022-09-26'),\n",
    "    (null, FLOOR(RAND() * 11), '2022-09-26'),\n",
    "    (null, FLOOR(RAND() * 11), '2022-09-26'),\n",
    "    (null, FLOOR(RAND() * 11), '2022-09-26'),\n",
    "    (null, FLOOR(RAND() * 11), '2022-09-26'),\n",
    "    (null, FLOOR(RAND() * 11), '2022-09-26'),\n",
    "    (null, FLOOR(RAND() * 11), '2022-09-26'),\n",
    "    (null, FLOOR(RAND() * 11), '2022-09-26'),\n",
    "    (null, FLOOR(RAND() * 11), '2022-12-19'),\n",
    "    (null, FLOOR(RAND() * 11), '2022-12-19'),\n",
    "    (null, FLOOR(RAND() * 11), '2022-12-19'),\n",
    "    (null, FLOOR(RAND() * 11), '2022-12-19'),\n",
    "    (null, FLOOR(RAND() * 11), '2022-12-19'),\n",
    "    (null, FLOOR(RAND() * 11), '2022-12-19'),\n",
    "    (null, FLOOR(RAND() * 11), '2022-12-19'),\n",
    "    (null, FLOOR(RAND() * 11), '2022-12-19'),\n",
    "    (null, FLOOR(RAND() * 11), '2022-12-19'),\n",
    "    (null, FLOOR(RAND() * 11), '2022-12-19'),\n",
    "    (null, FLOOR(RAND() * 11), '2023-03-27'),\n",
    "    (null, FLOOR(RAND() * 11), '2023-03-27'),\n",
    "    (null, FLOOR(RAND() * 11), '2023-03-27'),\n",
    "    (null, FLOOR(RAND() * 11), '2023-03-27'),\n",
    "    (null, FLOOR(RAND() * 11), '2023-03-27'),\n",
    "    (null, FLOOR(RAND() * 11), '2023-03-27'),\n",
    "    (null, FLOOR(RAND() * 11), '2023-03-27'),\n",
    "    (null, FLOOR(RAND() * 11), '2023-03-27'),\n",
    "    (null, FLOOR(RAND() * 11), '2023-03-27'),\n",
    "    (null, FLOOR(RAND() * 11), '2023-03-27'),\n",
    "    (null, FLOOR(RAND() * 11), '2023-06-26'),\n",
    "    (null, FLOOR(RAND() * 11), '2023-06-26'),\n",
    "    (null, FLOOR(RAND() * 11), '2023-06-26'),\n",
    "    (null, FLOOR(RAND() * 11), '2023-06-26'),\n",
    "    (null, FLOOR(RAND() * 11), '2023-06-26'),\n",
    "    (null, FLOOR(RAND() * 11), '2023-06-26'),\n",
    "    (null, FLOOR(RAND() * 11), '2023-06-26'),\n",
    "    (null, FLOOR(RAND() * 11), '2023-06-26'),\n",
    "    (null, FLOOR(RAND() * 11), '2023-06-26'),\n",
    "    (null, FLOOR(RAND() * 11), '2023-06-26'),\n",
    "    (null, FLOOR(RAND() * 11), '2023-09-25'),\n",
    "    (null, FLOOR(RAND() * 11), '2023-09-25'),\n",
    "    (null, FLOOR(RAND() * 11), '2023-09-25'),\n",
    "    (null, FLOOR(RAND() * 11), '2023-09-25'),\n",
    "    (null, FLOOR(RAND() * 11), '2023-09-25'),\n",
    "    (null, FLOOR(RAND() * 11), '2023-09-25'),\n",
    "    (null, FLOOR(RAND() * 11), '2023-09-25'),\n",
    "    (null, FLOOR(RAND() * 11), '2023-09-25'),\n",
    "    (null, FLOOR(RAND() * 11), '2023-09-25'),\n",
    "    (null, FLOOR(RAND() * 11), '2023-09-25'),\n",
    "    (null, FLOOR(RAND() * 11), '2023-12-18'),\n",
    "    (null, FLOOR(RAND() * 11), '2023-12-18'),\n",
    "    (null, FLOOR(RAND() * 11), '2023-12-18'),\n",
    "    (null, FLOOR(RAND() * 11), '2023-12-18'),\n",
    "    (null, FLOOR(RAND() * 11), '2023-12-18'),\n",
    "    (null, FLOOR(RAND() * 11), '2023-12-18'),\n",
    "    (null, FLOOR(RAND() * 11), '2023-12-18'),\n",
    "    (null, FLOOR(RAND() * 11), '2023-12-18'),\n",
    "    (null, FLOOR(RAND() * 11), '2023-12-18'),\n",
    "    (null, FLOOR(RAND() * 11), '2023-12-18')\n",
    "    \"\"\"\n",
    "    \n",
    "cursor.execute(insert_query)\n",
    "conn.commit()"
   ]
  },
  {
   "cell_type": "code",
   "execution_count": 7,
   "metadata": {},
   "outputs": [],
   "source": [
    "insert_query = \"\"\"INSERT INTO categoria (categoria_id, categoria)\n",
    "values \n",
    "\t(null, \"Manutenção preventiva\"),\n",
    "    (null, \"Atualizações e modificações\"),\n",
    "    (null, \"Treinamento técnico\"),\n",
    "    (null, \"Especificação técnica de peça de reposição\"),\n",
    "    (null, \"Problemas relacionados à documentação\")\n",
    "    \"\"\"\n",
    "    \n",
    "cursor.execute(insert_query)\n",
    "conn.commit()"
   ]
  },
  {
   "cell_type": "code",
   "execution_count": 9,
   "metadata": {},
   "outputs": [],
   "source": [
    "insert_query = \"\"\"INSERT INTO tempo_resposta (tempo_resposta_id, tempo_resposta)\n",
    "values \n",
    "\t(null, 3),\n",
    "    (null, 4),\n",
    "    (null, 5)\n",
    "    \"\"\"\n",
    "    \n",
    "cursor.execute(insert_query)\n",
    "conn.commit()"
   ]
  },
  {
   "cell_type": "code",
   "execution_count": 10,
   "metadata": {},
   "outputs": [],
   "source": [
    "insert_query = \"\"\"INSERT INTO satisfacao_cliente (satisfacao_cliente_id, satisfacao_cliente_avaliacao)\n",
    "values \n",
    "\t(null, \"Muito insatisfeito\"),\n",
    "    (null, \"Insatisfeito\"),\n",
    "    (null, \"Neutro\"),\n",
    "    (null, \"Satisfeito\"),\n",
    "    (null, \"Muito satisfeito\")\n",
    "    \"\"\"\n",
    "    \n",
    "cursor.execute(insert_query)\n",
    "conn.commit()"
   ]
  },
  {
   "cell_type": "code",
   "execution_count": 11,
   "metadata": {},
   "outputs": [],
   "source": [
    "insert_query = \"\"\"INSERT INTO tempo_entrega (tempo_entrega_id, tempo_entrega)\n",
    "values \n",
    "\t(null, 6),\n",
    "    (null, 7),\n",
    "    (null, 8),\n",
    "    (null, 9),\n",
    "    (null, 10),\n",
    "    (null, 11),\n",
    "    (null, 12),\n",
    "    (null, 13),\n",
    "    (null, 14),\n",
    "    (null, 15),\n",
    "    (null, 16),\n",
    "    (null, 17),\n",
    "    (null, 18)\n",
    "    \"\"\"\n",
    "    \n",
    "cursor.execute(insert_query)\n",
    "conn.commit()"
   ]
  }
 ],
 "metadata": {
  "kernelspec": {
   "display_name": "Python 3",
   "language": "python",
   "name": "python3"
  },
  "language_info": {
   "codemirror_mode": {
    "name": "ipython",
    "version": 3
   },
   "file_extension": ".py",
   "mimetype": "text/x-python",
   "name": "python",
   "nbconvert_exporter": "python",
   "pygments_lexer": "ipython3",
   "version": "3.12.1"
  }
 },
 "nbformat": 4,
 "nbformat_minor": 2
}
