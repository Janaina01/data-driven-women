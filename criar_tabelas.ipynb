{
 "cells": [
  {
   "cell_type": "code",
   "execution_count": 25,
   "metadata": {},
   "outputs": [
    {
     "name": "stdout",
     "output_type": "stream",
     "text": [
      "Requirement already satisfied: mysql-connector-python in c:\\users\\luana\\appdata\\local\\programs\\python\\python312\\lib\\site-packages (8.2.0)Note: you may need to restart the kernel to use updated packages.\n"
     ]
    },
    {
     "name": "stderr",
     "output_type": "stream",
     "text": [
      "\n",
      "[notice] A new release of pip is available: 23.3.1 -> 23.3.2\n",
      "[notice] To update, run: python.exe -m pip install --upgrade pip\n"
     ]
    },
    {
     "name": "stdout",
     "output_type": "stream",
     "text": [
      "\n",
      "Requirement already satisfied: protobuf<=4.21.12,>=4.21.1 in c:\\users\\luana\\appdata\\local\\programs\\python\\python312\\lib\\site-packages (from mysql-connector-python) (4.21.12)\n"
     ]
    }
   ],
   "source": [
    "pip install mysql-connector-python"
   ]
  },
  {
   "cell_type": "code",
   "execution_count": 26,
   "metadata": {},
   "outputs": [],
   "source": [
    "import mysql.connector\n",
    "from random import choice, randint"
   ]
  },
  {
   "cell_type": "code",
   "execution_count": 27,
   "metadata": {},
   "outputs": [],
   "source": [
    "db_config = {\n",
    "    'host': 'localhost',\n",
    "    'user': 'root',\n",
    "    'password': '741852',\n",
    "    'database': 'projeto_embraer'\n",
    "    }"
   ]
  },
  {
   "cell_type": "code",
   "execution_count": null,
   "metadata": {},
   "outputs": [],
   "source": [
    "conn = mysql.connector.connect(**db_config)\n",
    "cursor = conn.cursor()\n",
    "\n",
    "zerar_contraints = \"\"\"\n",
    "    SET foreign_key_checks = 0\n",
    "\"\"\"\n",
    "\n",
    "drop_tables = \"\"\"\n",
    "    DROP TABLE pedido_consulta;\n",
    "    DROP TABLE consulta_tecnica;\n",
    "    DROP TABLE categoria;\n",
    "    DROP TABLE tempo_resposta;\n",
    "    DROP TABLE cliente;\n",
    "    DROP TABLE nps;\n",
    "    DROP TABLE pedido_produto;\n",
    "    DROP TABLE produto;\n",
    "    DROP TABLE pedido;\n",
    "    DROP TABLE tempo_entrega;\n",
    "    DROP TABLE satisfacao_cliente;\n",
    "\"\"\"\n",
    "\n",
    "cursor.execute(drop_tables)\n",
    "    \n",
    "conn.commit()"
   ]
  },
  {
   "cell_type": "code",
   "execution_count": null,
   "metadata": {},
   "outputs": [],
   "source": [
    "conn = mysql.connector.connect(**db_config)\n",
    "cursor = conn.cursor()\n",
    "\n",
    "\n",
    "drop_tables2 = \"\"\"\n",
    "    SET foreign_key_checks = 0;\n",
    "    DROP TABLE cliente;\n",
    "    DROP TABLE nps;\n",
    "    DROP TABLE pedido_produto;\n",
    "    DROP TABLE produto;\n",
    "    DROP TABLE pedido;\n",
    "    DROP TABLE tempo_entrega;\n",
    "    DROP TABLE satisfacao_cliente;\n",
    "    SET foreign_key_checks = 1;\n",
    "\"\"\"\n",
    "\n",
    "cursor.execute(drop_tables2)\n",
    "    \n",
    "conn.commit()"
   ]
  },
  {
   "cell_type": "code",
   "execution_count": 35,
   "metadata": {},
   "outputs": [],
   "source": [
    "conn = mysql.connector.connect(**db_config)\n",
    "cursor = conn.cursor()\n",
    "\n",
    "create_table_query = \"\"\"\n",
    "    CREATE TABLE IF NOT EXISTS nps (\n",
    "        nps_id INT NOT NULL AUTO_INCREMENT PRIMARY KEY,\n",
    "        nps_pontuacao INT NOT NULL,\n",
    "        nps_data DATE NOT NULL\n",
    "    );\n",
    "\"\"\"\n",
    "\n",
    "cursor.execute(create_table_query)\n",
    "conn.commit()"
   ]
  },
  {
   "cell_type": "code",
   "execution_count": 36,
   "metadata": {},
   "outputs": [],
   "source": [
    "create_table_query = \"\"\"\n",
    "    CREATE TABLE IF NOT EXISTS cliente (\n",
    "        cliente_id INT NOT NULL AUTO_INCREMENT PRIMARY KEY,\n",
    "        cliente_nome VARCHAR(100) NOT NULL,\n",
    "        cliente_pais VARCHAR(50) NOT NULL,\n",
    "        cliente_email VARCHAR(100) NOT NULL\n",
    "    );\n",
    "\"\"\"\n",
    "\n",
    "cursor.execute(create_table_query)\n",
    "conn.commit()"
   ]
  },
  {
   "cell_type": "code",
   "execution_count": 37,
   "metadata": {},
   "outputs": [],
   "source": [
    "conn = mysql.connector.connect(**db_config)\n",
    "cursor = conn.cursor()\n",
    "\n",
    "create_table_query = \"\"\"\n",
    "    CREATE TABLE IF NOT EXISTS nps_cliente (\n",
    "        nps_cliente_id INT NOT NULL AUTO_INCREMENT PRIMARY KEY,\n",
    "        cliente_id INT NOT NULL,\n",
    "        nps_id INT NOT NULL,\n",
    "        FOREIGN KEY (cliente_id) REFERENCES cliente (cliente_id),\n",
    "        FOREIGN KEY (nps_id) REFERENCES nps (nps_id)\n",
    "    );\n",
    "\"\"\"\n",
    "\n",
    "cursor.execute(create_table_query)\n",
    "conn.commit()"
   ]
  },
  {
   "cell_type": "code",
   "execution_count": 38,
   "metadata": {},
   "outputs": [],
   "source": [
    "create_table_query = \"\"\"\n",
    "    CREATE TABLE IF NOT EXISTS tempo_entrega (\n",
    "        tempo_entrega_id INT NOT NULL AUTO_INCREMENT PRIMARY KEY,\n",
    "        tempo_entrega INT NOT NULL\n",
    "    );\n",
    "\"\"\"\n",
    "\n",
    "cursor.execute(create_table_query)\n",
    "conn.commit()"
   ]
  },
  {
   "cell_type": "code",
   "execution_count": 39,
   "metadata": {},
   "outputs": [],
   "source": [
    "create_table_query = \"\"\"\n",
    "    CREATE TABLE IF NOT EXISTS satisfacao_cliente (\n",
    "        satisfacao_cliente_id INT NOT NULL AUTO_INCREMENT PRIMARY KEY,\n",
    "        satisfacao_cliente_avaliacao VARCHAR(30) NOT NULL\n",
    "    );\n",
    "\"\"\"\n",
    "\n",
    "cursor.execute(create_table_query)\n",
    "conn.commit()"
   ]
  },
  {
   "cell_type": "code",
   "execution_count": 40,
   "metadata": {},
   "outputs": [],
   "source": [
    "create_table_query = \"\"\"\n",
    "    CREATE TABLE IF NOT EXISTS pedido (\n",
    "        pedido_id INT NOT NULL AUTO_INCREMENT PRIMARY KEY,\n",
    "        pedido_tempo_estimado INT NOT NULL,\n",
    "        cliente_id INT NOT NULL,\n",
    "        satisfacao_cliente_id INT,\n",
    "        tempo_entrega_id INT,\n",
    "        FOREIGN KEY (cliente_id) REFERENCES cliente (cliente_id),\n",
    "        FOREIGN KEY (satisfacao_cliente_id) REFERENCES satisfacao_cliente (satisfacao_cliente_id),\n",
    "        FOREIGN KEY (tempo_entrega_id) REFERENCES tempo_entrega (tempo_entrega_id)\n",
    "    );\n",
    "\"\"\"\n",
    "\n",
    "cursor.execute(create_table_query)\n",
    "conn.commit()"
   ]
  },
  {
   "cell_type": "code",
   "execution_count": 41,
   "metadata": {},
   "outputs": [],
   "source": [
    "create_table_query = \"\"\"\n",
    "    CREATE TABLE IF NOT EXISTS produto (\n",
    "        produto_id INT NOT NULL AUTO_INCREMENT PRIMARY KEY,\n",
    "        produto VARCHAR(100) NOT NULL,\n",
    "        tipo_carga VARCHAR(50) NOT NULL\n",
    "    );\n",
    "\"\"\"\n",
    "\n",
    "cursor.execute(create_table_query)\n",
    "conn.commit()"
   ]
  },
  {
   "cell_type": "code",
   "execution_count": 42,
   "metadata": {},
   "outputs": [],
   "source": [
    "create_table_query = \"\"\"\n",
    "    CREATE TABLE IF NOT EXISTS pedido_produto(\n",
    "        pedido_produto_id INT NOT NULL AUTO_INCREMENT PRIMARY KEY,\n",
    "        pedido_id INT NOT NULL,\n",
    "        produto_id INT NOT NULL,\n",
    "        FOREIGN KEY (pedido_id) REFERENCES pedido (pedido_id),\n",
    "        FOREIGN KEY (produto_id) REFERENCES produto (produto_id)\n",
    "    );\n",
    "\"\"\"\n",
    "\n",
    "cursor.execute(create_table_query)\n",
    "conn.commit()"
   ]
  },
  {
   "cell_type": "code",
   "execution_count": 43,
   "metadata": {},
   "outputs": [],
   "source": [
    "create_table_query = \"\"\"\n",
    "    CREATE TABLE IF NOT EXISTS tempo_resposta(\n",
    "        tempo_resposta_id INT NOT NULL AUTO_INCREMENT PRIMARY KEY,\n",
    "        tempo_resposta INT NOT NULL\n",
    "    );\n",
    "\"\"\"\n",
    "\n",
    "cursor.execute(create_table_query)\n",
    "conn.commit()"
   ]
  },
  {
   "cell_type": "code",
   "execution_count": 44,
   "metadata": {},
   "outputs": [],
   "source": [
    "create_table_query = \"\"\"\n",
    "    CREATE TABLE IF NOT EXISTS categoria(\n",
    "        categoria_id INT NOT NULL AUTO_INCREMENT PRIMARY KEY,\n",
    "        categoria VARCHAR(100) NOT NULL\n",
    "    );\n",
    "\"\"\"\n",
    "cursor.execute(create_table_query)\n",
    "conn.commit()"
   ]
  },
  {
   "cell_type": "code",
   "execution_count": 45,
   "metadata": {},
   "outputs": [],
   "source": [
    "create_table_query = \"\"\"\n",
    "    CREATE TABLE IF NOT EXISTS consulta_tecnica(\n",
    "        consulta_id INT NOT NULL AUTO_INCREMENT PRIMARY KEY,\n",
    "        tempo_resposta_id INT NOT NULL,\n",
    "        categoria_id INT NOT NULL,\n",
    "        FOREIGN KEY (tempo_resposta_id) REFERENCES tempo_resposta (tempo_resposta_id),\n",
    "        FOREIGN KEY (categoria_id) REFERENCES categoria (categoria_id)\n",
    "    );\n",
    "\"\"\"\n",
    "\n",
    "cursor.execute(create_table_query)\n",
    "conn.commit()"
   ]
  },
  {
   "cell_type": "code",
   "execution_count": 46,
   "metadata": {},
   "outputs": [],
   "source": [
    "create_table_query = \"\"\"\n",
    "    CREATE TABLE IF NOT EXISTS pedido_consulta(\n",
    "        pedido_consulta_id INT NOT NULL AUTO_INCREMENT PRIMARY KEY,\n",
    "        pedido_id INT NOT NULL,\n",
    "        consulta_id INT NOT NULL,\n",
    "        FOREIGN KEY (pedido_id) REFERENCES pedido (pedido_id),\n",
    "        FOREIGN KEY (consulta_id) REFERENCES consulta_tecnica (consulta_id)\n",
    "    );\n",
    "\"\"\"\n",
    "\n",
    "cursor.execute(create_table_query)\n",
    "conn.commit()"
   ]
  }
 ],
 "metadata": {
  "kernelspec": {
   "display_name": "Python 3",
   "language": "python",
   "name": "python3"
  },
  "language_info": {
   "codemirror_mode": {
    "name": "ipython",
    "version": 3
   },
   "file_extension": ".py",
   "mimetype": "text/x-python",
   "name": "python",
   "nbconvert_exporter": "python",
   "pygments_lexer": "ipython3",
   "version": "3.12.0"
  }
 },
 "nbformat": 4,
 "nbformat_minor": 2
}
