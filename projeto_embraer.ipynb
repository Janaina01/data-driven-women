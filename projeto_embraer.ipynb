{
 "cells": [
  {
   "cell_type": "code",
   "execution_count": 14,
   "metadata": {},
   "outputs": [
    {
     "name": "stdout",
     "output_type": "stream",
     "text": [
      "Requirement already satisfied: mysql-connector-python in c:\\users\\alexandre\\anaconda3\\lib\\site-packages (8.2.0)\n",
      "Requirement already satisfied: protobuf<=4.21.12,>=4.21.1 in c:\\users\\alexandre\\anaconda3\\lib\\site-packages (from mysql-connector-python) (4.21.12)\n",
      "Note: you may need to restart the kernel to use updated packages.\n"
     ]
    }
   ],
   "source": [
    "pip install mysql-connector-python"
   ]
  },
  {
   "cell_type": "code",
   "execution_count": 15,
   "metadata": {},
   "outputs": [],
   "source": [
    "import mysql.connector\n",
    "from random import choice, randint"
   ]
  },
  {
   "cell_type": "code",
   "execution_count": 16,
   "metadata": {},
   "outputs": [],
   "source": [
    "db_config = {\n",
    "    'host': 'localhost',\n",
    "    'user': 'root',\n",
    "    'password': '741852',\n",
    "    'database': 'projeto_embraer'\n",
    "    }"
   ]
  },
  {
   "cell_type": "code",
   "execution_count": 17,
   "metadata": {},
   "outputs": [],
   "source": [
    "conn = mysql.connector.connect(**db_config)\n",
    "cursor = conn.cursor()\n",
    "\n",
    "create_table_query = \"\"\"\n",
    "    CREATE TABLE IF NOT EXISTS nps (\n",
    "        nps_id INT NOT NULL AUTO_INCREMENT PRIMARY KEY,\n",
    "        nps_pontuacao INT NOT NULL,\n",
    "        nps_data DATE NOT NULL\n",
    "    );\n",
    "\"\"\"\n",
    "\n",
    "cursor.execute(create_table_query)\n",
    "conn.commit()"
   ]
  },
  {
   "cell_type": "code",
   "execution_count": 18,
   "metadata": {},
   "outputs": [],
   "source": [
    "create_table_query = \"\"\"\n",
    "    CREATE TABLE IF NOT EXISTS cliente (\n",
    "        cliente_id INT NOT NULL AUTO_INCREMENT PRIMARY KEY,\n",
    "        cliente_nome VARCHAR(100) NOT NULL,\n",
    "        cliente_estado VARCHAR(50) NOT NULL,\n",
    "        cliente_email VARCHAR(100) NOT NULL,\n",
    "        nps_id INT NOT NULL,\n",
    "        FOREIGN KEY (nps_id) REFERENCES nps (nps_id)\n",
    "    );\n",
    "\"\"\"\n",
    "\n",
    "cursor.execute(create_table_query)\n",
    "conn.commit()"
   ]
  },
  {
   "cell_type": "code",
   "execution_count": 19,
   "metadata": {},
   "outputs": [],
   "source": [
    "create_table_query = \"\"\"\n",
    "    CREATE TABLE IF NOT EXISTS tempo_entrega (\n",
    "        tempo_entrega_id INT NOT NULL AUTO_INCREMENT PRIMARY KEY,\n",
    "        tempo_entrega INT NOT NULL\n",
    "    );\n",
    "\"\"\"\n",
    "\n",
    "cursor.execute(create_table_query)\n",
    "conn.commit()"
   ]
  },
  {
   "cell_type": "code",
   "execution_count": 20,
   "metadata": {},
   "outputs": [],
   "source": [
    "create_table_query = \"\"\"\n",
    "    CREATE TABLE IF NOT EXISTS satisfacao_cliente (\n",
    "        satisfacao_cliente_id INT NOT NULL AUTO_INCREMENT PRIMARY KEY,\n",
    "        satisfacao_cliente_avaliacao VARCHAR(30) NOT NULL,\n",
    "        satisfacao_cliente_data DATE NOT NULL\n",
    "    );\n",
    "\"\"\"\n",
    "\n",
    "cursor.execute(create_table_query)\n",
    "conn.commit()"
   ]
  },
  {
   "cell_type": "code",
   "execution_count": 22,
   "metadata": {},
   "outputs": [],
   "source": [
    "create_table_query = \"\"\"\n",
    "    CREATE TABLE IF NOT EXISTS pedido (\n",
    "        pedido_id INT NOT NULL AUTO_INCREMENT PRIMARY KEY,\n",
    "        pedido_data DATE NOT NULL,\n",
    "        cliente_id INT NOT NULL,\n",
    "        satisfacao_cliente_id INT NOT NULL,\n",
    "        tempo_entrega_id INT NOT NULL,\n",
    "        FOREIGN KEY (cliente_id) REFERENCES cliente (cliente_id),\n",
    "        FOREIGN KEY (satisfacao_cliente_id) REFERENCES satisfacao_cliente (satisfacao_cliente_id),\n",
    "        FOREIGN KEY (tempo_entrega_id) REFERENCES tempo_entrega (tempo_entrega_id)\n",
    "    );\n",
    "\"\"\"\n",
    "\n",
    "cursor.execute(create_table_query)\n",
    "conn.commit()"
   ]
  },
  {
   "cell_type": "code",
   "execution_count": 40,
   "metadata": {},
   "outputs": [],
   "source": [
    "create_table_query = \"\"\"\n",
    "    CREATE TABLE IF NOT EXISTS produto (\n",
    "        produto_id INT NOT NULL AUTO_INCREMENT PRIMARY KEY,\n",
    "        produto VARCHAR(100) NOT NULL,\n",
    "        tipo_carga VARCHAR(50) NOT NULL\n",
    "    );\n",
    "\"\"\"\n",
    "\n",
    "cursor.execute(create_table_query)\n",
    "conn.commit()"
   ]
  },
  {
   "cell_type": "code",
   "execution_count": 39,
   "metadata": {},
   "outputs": [],
   "source": [
    "create_table_query = \"\"\"\n",
    "    CREATE TABLE IF NOT EXISTS pedido_produto(\n",
    "        pedido_produto_id INT NOT NULL AUTO_INCREMENT PRIMARY KEY,\n",
    "        pedido_id INT NOT NULL,\n",
    "        produto_id INT NOT NULL,\n",
    "        FOREIGN KEY (pedido_id) REFERENCES pedido (pedido_id),\n",
    "        FOREIGN KEY (produto_id) REFERENCES produto (produto_id)\n",
    "    );\n",
    "\"\"\"\n",
    "\n",
    "cursor.execute(create_table_query)\n",
    "conn.commit()"
   ]
  }
 ],
 "metadata": {
  "kernelspec": {
   "display_name": "Python 3",
   "language": "python",
   "name": "python3"
  },
  "language_info": {
   "codemirror_mode": {
    "name": "ipython",
    "version": 3
   },
   "file_extension": ".py",
   "mimetype": "text/x-python",
   "name": "python",
   "nbconvert_exporter": "python",
   "pygments_lexer": "ipython3",
   "version": "3.10.10"
  }
 },
 "nbformat": 4,
 "nbformat_minor": 2
}
